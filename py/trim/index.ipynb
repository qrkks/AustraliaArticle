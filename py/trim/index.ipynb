{
 "cells": [
  {
   "cell_type": "code",
   "execution_count": 1,
   "metadata": {},
   "outputs": [],
   "source": [
    "import pandas as pd # type: ignore"
   ]
  },
  {
   "cell_type": "code",
   "execution_count": 6,
   "metadata": {},
   "outputs": [],
   "source": [
    "data = pd.read_csv(\"../../db/purged/data.csv\", index_col=\"序号\")"
   ]
  },
  {
   "cell_type": "code",
   "execution_count": 7,
   "metadata": {},
   "outputs": [
    {
     "data": {
      "text/plain": [
       "Index(['经济毒性分级', '经济健康总分', '性别', '居住地', '医疗费用承担方式', '治疗方式', '有无远处转移', '改变生活方式',\n",
       "       '不得不动用储蓄', '使用信用卡贷款', '增加工作时间', '放弃休闲娱乐', '减少生活必需品的消费', '改变医疗计划',\n",
       "       '担心费用而推迟医疗服务', '经济相关服药不依从', '向他人寻求帮助', '向亲戚朋友借钱', '寻求慈善机构或公共援助',\n",
       "       '其他类型的医疗救助', '大病救助', '民政救助', '申请免费药物', '失独费用', '退伍军人，报销', '商业保险类型',\n",
       "       '未购买原因', '支付不起', '不了解相关信息', '买过但感觉被骗了', '认为没必要', '买过但过期了', '文化程度', '职业',\n",
       "       '目前就业状况', '报销比例', '你的月收入', '家庭每月人均收入', '患病类型', '病情分期', '年龄', '住院数',\n",
       "       '住院时间（天数）', '医院总费用', '其中自付费用', '外购药费用', '食宿费（元/天）', '食宿费总计',\n",
       "       '交通费用（元/次）', '交通费用总计', '营养费（共计）', '客观支持', '主观支持', '对支持的利用度', '社会支持总分',\n",
       "       '生活状况（PWB）', '社会/家庭状况（SWB）', '情感状况（EWB）', '功能状态（FWB）', '肺癌相关症状（LCS）',\n",
       "       '心理弹性总分', '家庭沟通和问题解决（FCPS）', '利用社会资源（USR）', '保持积极的前景（MPO）', '家庭弹性总分'],\n",
       "      dtype='object')"
      ]
     },
     "execution_count": 7,
     "metadata": {},
     "output_type": "execute_result"
    }
   ],
   "source": [
    "data.columns"
   ]
  },
  {
   "cell_type": "code",
   "execution_count": 11,
   "metadata": {},
   "outputs": [
    {
     "data": {
      "text/plain": [
       "经济健康总分\n",
       "0    224\n",
       "1    197\n",
       "Name: count, dtype: int64"
      ]
     },
     "execution_count": 11,
     "metadata": {},
     "output_type": "execute_result"
    }
   ],
   "source": [
    "mean_score = data['经济健康总分'].mean()\n",
    "toxisity = data['经济健康总分'].apply(lambda x: 1 if x > mean_score else 0)\n",
    "toxisity.value_counts()"
   ]
  },
  {
   "cell_type": "markdown",
   "metadata": {},
   "source": [
    "定义为 G0：无 FT (COST ≥ 26)；G1：轻度 FT (≥ 14-26)；G2：中度 FT (> 0-14)；和 G3：重度 FT (COST = 0)。"
   ]
  },
  {
   "cell_type": "code",
   "execution_count": 18,
   "metadata": {},
   "outputs": [
    {
     "data": {
      "text/plain": [
       "经济健康总分\n",
       "G1    264\n",
       "G2    115\n",
       "G0     42\n",
       "Name: count, dtype: int64"
      ]
     },
     "execution_count": 18,
     "metadata": {},
     "output_type": "execute_result"
    }
   ],
   "source": [
    "# 将\"经济健康总分\"按照指定标准进行分类\n",
    "def categorize_ft(score):\n",
    "    if score >= 26:\n",
    "        return \"G0\"  # 无 FT\n",
    "    elif 14 <= score < 26:\n",
    "        return \"G1\"  # 轻度 FT\n",
    "    elif 0 < score < 14:\n",
    "        return \"G2\"  # 中度 FT\n",
    "    elif score == 0:\n",
    "        return \"G3\"  # 重度 FT\n",
    "\n",
    "# 应用分类函数到\"经济健康总分\"列，生成新的分类列\n",
    "fz = data['经济健康总分'].apply(categorize_ft)\n",
    "\n",
    "# 查看结果\n",
    "fz.value_counts()"
   ]
  },
  {
   "cell_type": "code",
   "execution_count": null,
   "metadata": {},
   "outputs": [],
   "source": []
  }
 ],
 "metadata": {
  "kernelspec": {
   "display_name": ".venv",
   "language": "python",
   "name": "python3"
  },
  "language_info": {
   "codemirror_mode": {
    "name": "ipython",
    "version": 3
   },
   "file_extension": ".py",
   "mimetype": "text/x-python",
   "name": "python",
   "nbconvert_exporter": "python",
   "pygments_lexer": "ipython3",
   "version": "3.12.6"
  }
 },
 "nbformat": 4,
 "nbformat_minor": 2
}
